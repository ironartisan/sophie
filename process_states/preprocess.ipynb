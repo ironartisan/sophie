{
 "cells": [
  {
   "cell_type": "markdown",
   "source": [
    "### 筛选数据"
   ],
   "metadata": {
    "collapsed": false
   }
  },
  {
   "cell_type": "code",
   "execution_count": 72,
   "outputs": [
    {
     "name": "stdout",
     "output_type": "stream",
     "text": [
      "<class 'pandas.core.frame.DataFrame'>\n",
      "Int64Index: 848721 entries, 0 to 1041200\n",
      "Data columns (total 8 columns):\n",
      " #   Column        Non-Null Count   Dtype  \n",
      "---  ------        --------------   -----  \n",
      " 0   icao24        848721 non-null  object \n",
      " 1   time          848721 non-null  int64  \n",
      " 2   lat           848721 non-null  float64\n",
      " 3   lon           848721 non-null  float64\n",
      " 4   baroaltitude  848721 non-null  float64\n",
      " 5   velocity      848721 non-null  float64\n",
      " 6   heading       848721 non-null  float64\n",
      " 7   onground      848721 non-null  bool   \n",
      "dtypes: bool(1), float64(5), int64(1), object(1)\n",
      "memory usage: 52.6+ MB\n"
     ]
    }
   ],
   "source": [
    "import pandas as pd\n",
    "df = pd.read_csv('D:\\lw\\data\\states_2020-09-07-01.csv')\n",
    "data = pd.DataFrame(df,columns=[ 'icao24','time', 'lat', 'lon', 'baroaltitude', 'velocity','heading', 'onground'])\n",
    "# 去除NAN\n",
    "data.dropna(axis=0, inplace=True)\n",
    "# 去除在地面上的点\n",
    "data = data.loc[df['onground']==False]\n",
    "data.info()\n",
    "data.head(10)\n",
    "data.to_csv('data.csv',index=False)"
   ],
   "metadata": {
    "collapsed": false,
    "pycharm": {
     "name": "#%%\n"
    }
   }
  },
  {
   "cell_type": "code",
   "execution_count": 15,
   "outputs": [],
   "source": [
    "spec_data = data[data['icao24'] == 'ab284d']\n",
    "spec_data.head(20)\n",
    "spec_data.to_csv('ab284d.csv')"
   ],
   "metadata": {
    "collapsed": false,
    "pycharm": {
     "name": "#%%\n"
    }
   }
  },
  {
   "cell_type": "code",
   "execution_count": null,
   "outputs": [],
   "source": [],
   "metadata": {
    "collapsed": false,
    "pycharm": {
     "name": "#%%\n"
    }
   }
  },
  {
   "cell_type": "markdown",
   "source": [
    "### 将时间戳转成成具体时间(非必需)"
   ],
   "metadata": {
    "collapsed": false,
    "pycharm": {
     "name": "#%% md\n"
    }
   }
  },
  {
   "cell_type": "code",
   "execution_count": 50,
   "outputs": [
    {
     "data": {
      "text/plain": "    icao24        time        lat         lon  baroaltitude    velocity  \\\n0   ab284d  1599440410  34.819584  -84.298553      11277.60  238.587791   \n1   7812d6  1599440410  29.240811  107.057298       7338.06  202.477342   \n2   45ce49  1599440410  50.451416    5.708193       8702.04  259.427739   \n3   a61f05  1599440410  41.435989  -95.465074      10965.18  207.272418   \n4   a80a8f  1599440410  36.280719  133.779758       9448.80  249.437445   \n5   ac9c3f  1599440410  36.846376  -75.972680        327.66   30.469680   \n6   a7824e  1599440410  34.675644  -88.135071      10972.80  222.121288   \n7   a67013  1599440410  32.262190  -96.991453       1661.16   55.275805   \n8   a86a66  1599440410  45.481934 -122.436414        693.42  103.240593   \n9   896468  1599440410  28.668915   70.644520      10972.80  224.279885   \n10  42498b  1599440410  54.984695   53.097166       9517.38  231.124523   \n11  a09cad  1599440410  39.290554 -105.203003       5113.02  169.161359   \n12  a93711  1599440410  39.418247 -105.156982       4274.82  166.680650   \n13  a3b0fe  1599440410  44.336119  -91.403302       9601.20  271.957501   \n14  a73690  1599440410  41.787094  -77.901806      11582.40  264.762292   \n15  a14c18  1599440410  24.822052  121.582133      13716.00  207.629624   \n16  a997cc  1599440410  39.983414  -95.519043      12192.00  212.714352   \n17  a04c67  1599440410  39.869618 -104.793091       3009.90  158.492173   \n18  ab5f00  1599440410  35.160141 -115.552125       8534.40  209.893782   \n19  a05627  1599440410  42.572999  -69.918653      11277.60  278.401674   \n\n       heading  onground                date  \n0   152.937698     False 2020-09-07 01:00:10  \n1   187.738941     False 2020-09-07 01:00:10  \n2   234.198166     False 2020-09-07 01:00:10  \n3   266.157547     False 2020-09-07 01:00:10  \n4    93.428912     False 2020-09-07 01:00:10  \n5   348.310631     False 2020-09-07 01:00:10  \n6   294.784409     False 2020-09-07 01:00:10  \n7    14.553573     False 2020-09-07 01:00:10  \n8   344.093821     False 2020-09-07 01:00:10  \n9   227.416894     False 2020-09-07 01:00:10  \n10  282.860793     False 2020-09-07 01:00:10  \n11   81.253838     False 2020-09-07 01:00:10  \n12   89.823162     False 2020-09-07 01:00:10  \n13  117.243650     False 2020-09-07 01:00:10  \n14  100.523912     False 2020-09-07 01:00:10  \n15   53.158495     False 2020-09-07 01:00:10  \n16  265.144298     False 2020-09-07 01:00:10  \n17  250.271116     False 2020-09-07 01:00:10  \n18  210.650668     False 2020-09-07 01:00:10  \n19   64.145191     False 2020-09-07 01:00:10  ",
      "text/html": "<div>\n<style scoped>\n    .dataframe tbody tr th:only-of-type {\n        vertical-align: middle;\n    }\n\n    .dataframe tbody tr th {\n        vertical-align: top;\n    }\n\n    .dataframe thead th {\n        text-align: right;\n    }\n</style>\n<table border=\"1\" class=\"dataframe\">\n  <thead>\n    <tr style=\"text-align: right;\">\n      <th></th>\n      <th>icao24</th>\n      <th>time</th>\n      <th>lat</th>\n      <th>lon</th>\n      <th>baroaltitude</th>\n      <th>velocity</th>\n      <th>heading</th>\n      <th>onground</th>\n      <th>date</th>\n    </tr>\n  </thead>\n  <tbody>\n    <tr>\n      <th>0</th>\n      <td>ab284d</td>\n      <td>1599440410</td>\n      <td>34.819584</td>\n      <td>-84.298553</td>\n      <td>11277.60</td>\n      <td>238.587791</td>\n      <td>152.937698</td>\n      <td>False</td>\n      <td>2020-09-07 01:00:10</td>\n    </tr>\n    <tr>\n      <th>1</th>\n      <td>7812d6</td>\n      <td>1599440410</td>\n      <td>29.240811</td>\n      <td>107.057298</td>\n      <td>7338.06</td>\n      <td>202.477342</td>\n      <td>187.738941</td>\n      <td>False</td>\n      <td>2020-09-07 01:00:10</td>\n    </tr>\n    <tr>\n      <th>2</th>\n      <td>45ce49</td>\n      <td>1599440410</td>\n      <td>50.451416</td>\n      <td>5.708193</td>\n      <td>8702.04</td>\n      <td>259.427739</td>\n      <td>234.198166</td>\n      <td>False</td>\n      <td>2020-09-07 01:00:10</td>\n    </tr>\n    <tr>\n      <th>3</th>\n      <td>a61f05</td>\n      <td>1599440410</td>\n      <td>41.435989</td>\n      <td>-95.465074</td>\n      <td>10965.18</td>\n      <td>207.272418</td>\n      <td>266.157547</td>\n      <td>False</td>\n      <td>2020-09-07 01:00:10</td>\n    </tr>\n    <tr>\n      <th>4</th>\n      <td>a80a8f</td>\n      <td>1599440410</td>\n      <td>36.280719</td>\n      <td>133.779758</td>\n      <td>9448.80</td>\n      <td>249.437445</td>\n      <td>93.428912</td>\n      <td>False</td>\n      <td>2020-09-07 01:00:10</td>\n    </tr>\n    <tr>\n      <th>5</th>\n      <td>ac9c3f</td>\n      <td>1599440410</td>\n      <td>36.846376</td>\n      <td>-75.972680</td>\n      <td>327.66</td>\n      <td>30.469680</td>\n      <td>348.310631</td>\n      <td>False</td>\n      <td>2020-09-07 01:00:10</td>\n    </tr>\n    <tr>\n      <th>6</th>\n      <td>a7824e</td>\n      <td>1599440410</td>\n      <td>34.675644</td>\n      <td>-88.135071</td>\n      <td>10972.80</td>\n      <td>222.121288</td>\n      <td>294.784409</td>\n      <td>False</td>\n      <td>2020-09-07 01:00:10</td>\n    </tr>\n    <tr>\n      <th>7</th>\n      <td>a67013</td>\n      <td>1599440410</td>\n      <td>32.262190</td>\n      <td>-96.991453</td>\n      <td>1661.16</td>\n      <td>55.275805</td>\n      <td>14.553573</td>\n      <td>False</td>\n      <td>2020-09-07 01:00:10</td>\n    </tr>\n    <tr>\n      <th>8</th>\n      <td>a86a66</td>\n      <td>1599440410</td>\n      <td>45.481934</td>\n      <td>-122.436414</td>\n      <td>693.42</td>\n      <td>103.240593</td>\n      <td>344.093821</td>\n      <td>False</td>\n      <td>2020-09-07 01:00:10</td>\n    </tr>\n    <tr>\n      <th>9</th>\n      <td>896468</td>\n      <td>1599440410</td>\n      <td>28.668915</td>\n      <td>70.644520</td>\n      <td>10972.80</td>\n      <td>224.279885</td>\n      <td>227.416894</td>\n      <td>False</td>\n      <td>2020-09-07 01:00:10</td>\n    </tr>\n    <tr>\n      <th>10</th>\n      <td>42498b</td>\n      <td>1599440410</td>\n      <td>54.984695</td>\n      <td>53.097166</td>\n      <td>9517.38</td>\n      <td>231.124523</td>\n      <td>282.860793</td>\n      <td>False</td>\n      <td>2020-09-07 01:00:10</td>\n    </tr>\n    <tr>\n      <th>11</th>\n      <td>a09cad</td>\n      <td>1599440410</td>\n      <td>39.290554</td>\n      <td>-105.203003</td>\n      <td>5113.02</td>\n      <td>169.161359</td>\n      <td>81.253838</td>\n      <td>False</td>\n      <td>2020-09-07 01:00:10</td>\n    </tr>\n    <tr>\n      <th>12</th>\n      <td>a93711</td>\n      <td>1599440410</td>\n      <td>39.418247</td>\n      <td>-105.156982</td>\n      <td>4274.82</td>\n      <td>166.680650</td>\n      <td>89.823162</td>\n      <td>False</td>\n      <td>2020-09-07 01:00:10</td>\n    </tr>\n    <tr>\n      <th>13</th>\n      <td>a3b0fe</td>\n      <td>1599440410</td>\n      <td>44.336119</td>\n      <td>-91.403302</td>\n      <td>9601.20</td>\n      <td>271.957501</td>\n      <td>117.243650</td>\n      <td>False</td>\n      <td>2020-09-07 01:00:10</td>\n    </tr>\n    <tr>\n      <th>14</th>\n      <td>a73690</td>\n      <td>1599440410</td>\n      <td>41.787094</td>\n      <td>-77.901806</td>\n      <td>11582.40</td>\n      <td>264.762292</td>\n      <td>100.523912</td>\n      <td>False</td>\n      <td>2020-09-07 01:00:10</td>\n    </tr>\n    <tr>\n      <th>15</th>\n      <td>a14c18</td>\n      <td>1599440410</td>\n      <td>24.822052</td>\n      <td>121.582133</td>\n      <td>13716.00</td>\n      <td>207.629624</td>\n      <td>53.158495</td>\n      <td>False</td>\n      <td>2020-09-07 01:00:10</td>\n    </tr>\n    <tr>\n      <th>16</th>\n      <td>a997cc</td>\n      <td>1599440410</td>\n      <td>39.983414</td>\n      <td>-95.519043</td>\n      <td>12192.00</td>\n      <td>212.714352</td>\n      <td>265.144298</td>\n      <td>False</td>\n      <td>2020-09-07 01:00:10</td>\n    </tr>\n    <tr>\n      <th>17</th>\n      <td>a04c67</td>\n      <td>1599440410</td>\n      <td>39.869618</td>\n      <td>-104.793091</td>\n      <td>3009.90</td>\n      <td>158.492173</td>\n      <td>250.271116</td>\n      <td>False</td>\n      <td>2020-09-07 01:00:10</td>\n    </tr>\n    <tr>\n      <th>18</th>\n      <td>ab5f00</td>\n      <td>1599440410</td>\n      <td>35.160141</td>\n      <td>-115.552125</td>\n      <td>8534.40</td>\n      <td>209.893782</td>\n      <td>210.650668</td>\n      <td>False</td>\n      <td>2020-09-07 01:00:10</td>\n    </tr>\n    <tr>\n      <th>19</th>\n      <td>a05627</td>\n      <td>1599440410</td>\n      <td>42.572999</td>\n      <td>-69.918653</td>\n      <td>11277.60</td>\n      <td>278.401674</td>\n      <td>64.145191</td>\n      <td>False</td>\n      <td>2020-09-07 01:00:10</td>\n    </tr>\n  </tbody>\n</table>\n</div>"
     },
     "execution_count": 50,
     "metadata": {},
     "output_type": "execute_result"
    }
   ],
   "source": [
    "import pandas as pd\n",
    "df = pd.read_csv('data.csv')\n",
    "\n",
    "# 将时间戳转成成具体时间\n",
    "df['date'] = pd.to_datetime(df['time'], unit='s')\n",
    "df.head(20)"
   ],
   "metadata": {
    "collapsed": false,
    "pycharm": {
     "name": "#%%\n"
    }
   }
  },
  {
   "cell_type": "code",
   "execution_count": 79,
   "outputs": [
    {
     "data": {
      "text/plain": "4761"
     },
     "execution_count": 79,
     "metadata": {},
     "output_type": "execute_result"
    }
   ],
   "source": [
    "import pandas as pd\n",
    "data = pd.read_csv('data.csv')\n",
    "df = pd.DataFrame(data)\n",
    "# 忽略最后一行onground\n",
    "df =df.iloc[:, :-1]\n",
    "\n",
    "id_list = df['icao24'].unique()\n",
    "len(id_list)"
   ],
   "metadata": {
    "collapsed": false,
    "pycharm": {
     "name": "#%%\n"
    }
   }
  },
  {
   "cell_type": "markdown",
   "source": [
    "### 过滤数据"
   ],
   "metadata": {
    "collapsed": false
   }
  },
  {
   "cell_type": "code",
   "execution_count": 64,
   "outputs": [
    {
     "data": {
      "text/plain": "3412"
     },
     "execution_count": 64,
     "metadata": {},
     "output_type": "execute_result"
    }
   ],
   "source": [
    "# 过滤掉轨迹长度小于100的点\n",
    "fileter_data = df.groupby(by=[df['icao24']]).filter(lambda x: len(x) >= 100)\n",
    "id_list = fileter_data['icao24'].unique()\n",
    "len(id_list)"
   ],
   "metadata": {
    "collapsed": false,
    "pycharm": {
     "name": "#%%\n"
    }
   }
  },
  {
   "cell_type": "code",
   "source": [
    "fileter_data.info()"
   ],
   "metadata": {
    "collapsed": false,
    "pycharm": {
     "name": "#%%\n"
    }
   },
   "execution_count": 60,
   "outputs": [
    {
     "name": "stdout",
     "output_type": "stream",
     "text": [
      "<class 'pandas.core.frame.DataFrame'>\n",
      "Int64Index: 773937 entries, 0 to 848720\n",
      "Data columns (total 7 columns):\n",
      " #   Column        Non-Null Count   Dtype  \n",
      "---  ------        --------------   -----  \n",
      " 0   icao24        773937 non-null  object \n",
      " 1   time          773937 non-null  int64  \n",
      " 2   lat           773937 non-null  float64\n",
      " 3   lon           773937 non-null  float64\n",
      " 4   baroaltitude  773937 non-null  float64\n",
      " 5   velocity      773937 non-null  float64\n",
      " 6   heading       773937 non-null  float64\n",
      "dtypes: float64(5), int64(1), object(1)\n",
      "memory usage: 67.2+ MB\n"
     ]
    }
   ]
  },
  {
   "cell_type": "code",
   "execution_count": 73,
   "outputs": [
    {
     "ename": "PermissionError",
     "evalue": "[Errno 13] Permission denied: 'filter_state.csv'",
     "output_type": "error",
     "traceback": [
      "\u001B[1;31m---------------------------------------------------------------------------\u001B[0m",
      "\u001B[1;31mPermissionError\u001B[0m                           Traceback (most recent call last)",
      "\u001B[1;32m<ipython-input-73-32568d1ffad8>\u001B[0m in \u001B[0;36m<module>\u001B[1;34m\u001B[0m\n\u001B[1;32m----> 1\u001B[1;33m \u001B[0mfileter_data\u001B[0m\u001B[1;33m.\u001B[0m\u001B[0mto_csv\u001B[0m\u001B[1;33m(\u001B[0m\u001B[1;34m\"filter_state.csv\"\u001B[0m\u001B[1;33m,\u001B[0m\u001B[0mindex\u001B[0m\u001B[1;33m=\u001B[0m\u001B[1;32mFalse\u001B[0m\u001B[1;33m)\u001B[0m\u001B[1;33m\u001B[0m\u001B[1;33m\u001B[0m\u001B[0m\n\u001B[0m",
      "\u001B[1;32mD:\\devsoft\\conda\\envs\\tp\\lib\\site-packages\\pandas\\core\\generic.py\u001B[0m in \u001B[0;36mto_csv\u001B[1;34m(self, path_or_buf, sep, na_rep, float_format, columns, header, index, index_label, mode, encoding, compression, quoting, quotechar, line_terminator, chunksize, date_format, doublequote, escapechar, decimal)\u001B[0m\n\u001B[0;32m   3202\u001B[0m             \u001B[0mdecimal\u001B[0m\u001B[1;33m=\u001B[0m\u001B[0mdecimal\u001B[0m\u001B[1;33m,\u001B[0m\u001B[1;33m\u001B[0m\u001B[1;33m\u001B[0m\u001B[0m\n\u001B[0;32m   3203\u001B[0m         )\n\u001B[1;32m-> 3204\u001B[1;33m         \u001B[0mformatter\u001B[0m\u001B[1;33m.\u001B[0m\u001B[0msave\u001B[0m\u001B[1;33m(\u001B[0m\u001B[1;33m)\u001B[0m\u001B[1;33m\u001B[0m\u001B[1;33m\u001B[0m\u001B[0m\n\u001B[0m\u001B[0;32m   3205\u001B[0m \u001B[1;33m\u001B[0m\u001B[0m\n\u001B[0;32m   3206\u001B[0m         \u001B[1;32mif\u001B[0m \u001B[0mpath_or_buf\u001B[0m \u001B[1;32mis\u001B[0m \u001B[1;32mNone\u001B[0m\u001B[1;33m:\u001B[0m\u001B[1;33m\u001B[0m\u001B[1;33m\u001B[0m\u001B[0m\n",
      "\u001B[1;32mD:\\devsoft\\conda\\envs\\tp\\lib\\site-packages\\pandas\\io\\formats\\csvs.py\u001B[0m in \u001B[0;36msave\u001B[1;34m(self)\u001B[0m\n\u001B[0;32m    186\u001B[0m                 \u001B[0mself\u001B[0m\u001B[1;33m.\u001B[0m\u001B[0mmode\u001B[0m\u001B[1;33m,\u001B[0m\u001B[1;33m\u001B[0m\u001B[1;33m\u001B[0m\u001B[0m\n\u001B[0;32m    187\u001B[0m                 \u001B[0mencoding\u001B[0m\u001B[1;33m=\u001B[0m\u001B[0mself\u001B[0m\u001B[1;33m.\u001B[0m\u001B[0mencoding\u001B[0m\u001B[1;33m,\u001B[0m\u001B[1;33m\u001B[0m\u001B[1;33m\u001B[0m\u001B[0m\n\u001B[1;32m--> 188\u001B[1;33m                 \u001B[0mcompression\u001B[0m\u001B[1;33m=\u001B[0m\u001B[0mdict\u001B[0m\u001B[1;33m(\u001B[0m\u001B[0mself\u001B[0m\u001B[1;33m.\u001B[0m\u001B[0mcompression_args\u001B[0m\u001B[1;33m,\u001B[0m \u001B[0mmethod\u001B[0m\u001B[1;33m=\u001B[0m\u001B[0mself\u001B[0m\u001B[1;33m.\u001B[0m\u001B[0mcompression\u001B[0m\u001B[1;33m)\u001B[0m\u001B[1;33m,\u001B[0m\u001B[1;33m\u001B[0m\u001B[1;33m\u001B[0m\u001B[0m\n\u001B[0m\u001B[0;32m    189\u001B[0m             )\n\u001B[0;32m    190\u001B[0m             \u001B[0mclose\u001B[0m \u001B[1;33m=\u001B[0m \u001B[1;32mTrue\u001B[0m\u001B[1;33m\u001B[0m\u001B[1;33m\u001B[0m\u001B[0m\n",
      "\u001B[1;32mD:\\devsoft\\conda\\envs\\tp\\lib\\site-packages\\pandas\\io\\common.py\u001B[0m in \u001B[0;36mget_handle\u001B[1;34m(path_or_buf, mode, encoding, compression, memory_map, is_text)\u001B[0m\n\u001B[0;32m    426\u001B[0m         \u001B[1;32mif\u001B[0m \u001B[0mencoding\u001B[0m\u001B[1;33m:\u001B[0m\u001B[1;33m\u001B[0m\u001B[1;33m\u001B[0m\u001B[0m\n\u001B[0;32m    427\u001B[0m             \u001B[1;31m# Encoding\u001B[0m\u001B[1;33m\u001B[0m\u001B[1;33m\u001B[0m\u001B[1;33m\u001B[0m\u001B[0m\n\u001B[1;32m--> 428\u001B[1;33m             \u001B[0mf\u001B[0m \u001B[1;33m=\u001B[0m \u001B[0mopen\u001B[0m\u001B[1;33m(\u001B[0m\u001B[0mpath_or_buf\u001B[0m\u001B[1;33m,\u001B[0m \u001B[0mmode\u001B[0m\u001B[1;33m,\u001B[0m \u001B[0mencoding\u001B[0m\u001B[1;33m=\u001B[0m\u001B[0mencoding\u001B[0m\u001B[1;33m,\u001B[0m \u001B[0mnewline\u001B[0m\u001B[1;33m=\u001B[0m\u001B[1;34m\"\"\u001B[0m\u001B[1;33m)\u001B[0m\u001B[1;33m\u001B[0m\u001B[1;33m\u001B[0m\u001B[0m\n\u001B[0m\u001B[0;32m    429\u001B[0m         \u001B[1;32melif\u001B[0m \u001B[0mis_text\u001B[0m\u001B[1;33m:\u001B[0m\u001B[1;33m\u001B[0m\u001B[1;33m\u001B[0m\u001B[0m\n\u001B[0;32m    430\u001B[0m             \u001B[1;31m# No explicit encoding\u001B[0m\u001B[1;33m\u001B[0m\u001B[1;33m\u001B[0m\u001B[1;33m\u001B[0m\u001B[0m\n",
      "\u001B[1;31mPermissionError\u001B[0m: [Errno 13] Permission denied: 'filter_state.csv'"
     ]
    }
   ],
   "source": [
    "fileter_data.to_csv(\"filter_state.csv\",index=False)"
   ],
   "metadata": {
    "collapsed": false,
    "pycharm": {
     "name": "#%%\n"
    }
   }
  },
  {
   "cell_type": "code",
   "execution_count": 81,
   "outputs": [
    {
     "data": {
      "text/plain": "Empty DataFrame\nColumns: [icao24, time, lat, lon, baroaltitude, velocity, heading]\nIndex: []",
      "text/html": "<div>\n<style scoped>\n    .dataframe tbody tr th:only-of-type {\n        vertical-align: middle;\n    }\n\n    .dataframe tbody tr th {\n        vertical-align: top;\n    }\n\n    .dataframe thead th {\n        text-align: right;\n    }\n</style>\n<table border=\"1\" class=\"dataframe\">\n  <thead>\n    <tr style=\"text-align: right;\">\n      <th></th>\n      <th>icao24</th>\n      <th>time</th>\n      <th>lat</th>\n      <th>lon</th>\n      <th>baroaltitude</th>\n      <th>velocity</th>\n      <th>heading</th>\n    </tr>\n  </thead>\n  <tbody>\n  </tbody>\n</table>\n</div>"
     },
     "execution_count": 81,
     "metadata": {},
     "output_type": "execute_result"
    }
   ],
   "source": [
    "dup_col = ['icao24', 'lat', 'lon', 'baroaltitude']\n",
    "dup_col2 = ['time','icao24']\n",
    "df_dup = fileter_data[fileter_data.duplicated(dup_col)]\n",
    "df_dup.head(20)"
   ],
   "metadata": {
    "collapsed": false,
    "pycharm": {
     "name": "#%%\n"
    }
   }
  },
  {
   "cell_type": "code",
   "execution_count": 75,
   "outputs": [
    {
     "name": "stdout",
     "output_type": "stream",
     "text": [
      "<class 'pandas.core.frame.DataFrame'>\n",
      "Int64Index: 643508 entries, 0 to 848720\n",
      "Data columns (total 7 columns):\n",
      " #   Column        Non-Null Count   Dtype  \n",
      "---  ------        --------------   -----  \n",
      " 0   icao24        643508 non-null  object \n",
      " 1   time          643508 non-null  int64  \n",
      " 2   lat           643508 non-null  float64\n",
      " 3   lon           643508 non-null  float64\n",
      " 4   baroaltitude  643508 non-null  float64\n",
      " 5   velocity      643508 non-null  float64\n",
      " 6   heading       643508 non-null  float64\n",
      "dtypes: float64(5), int64(1), object(1)\n",
      "memory usage: 39.3+ MB\n"
     ]
    }
   ],
   "source": [
    "dup_col = ['icao24', 'lat', 'lon', 'baroaltitude']\n",
    "\n",
    "# 去除重复数据\n",
    "fileter_data.drop_duplicates(subset=dup_col,keep='first',inplace=True)\n",
    "# 去除重复点数据\n",
    "fileter_data.drop_duplicates(subset=['time','icao24'],keep='first',inplace=True)\n",
    "fileter_data.info()\n",
    "\n"
   ],
   "metadata": {
    "collapsed": false,
    "pycharm": {
     "name": "#%%\n"
    }
   }
  }
 ],
 "metadata": {
  "kernelspec": {
   "display_name": "Python 3",
   "language": "python",
   "name": "python3"
  },
  "language_info": {
   "codemirror_mode": {
    "name": "ipython",
    "version": 3
   },
   "file_extension": ".py",
   "mimetype": "text/x-python",
   "name": "python",
   "nbconvert_exporter": "python",
   "pygments_lexer": "ipython3",
   "version": "3.7.3"
  }
 },
 "nbformat": 4,
 "nbformat_minor": 2
}