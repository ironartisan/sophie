{
 "cells": [
  {
   "cell_type": "markdown",
   "source": [
    "### 筛选数据"
   ],
   "metadata": {
    "collapsed": false
   }
  },
  {
   "cell_type": "code",
   "execution_count": 72,
   "outputs": [
    {
     "name": "stdout",
     "output_type": "stream",
     "text": [
      "<class 'pandas.core.frame.DataFrame'>\n",
      "Int64Index: 848721 entries, 0 to 1041200\n",
      "Data columns (total 8 columns):\n",
      " #   Column        Non-Null Count   Dtype  \n",
      "---  ------        --------------   -----  \n",
      " 0   icao24        848721 non-null  object \n",
      " 1   time          848721 non-null  int64  \n",
      " 2   lat           848721 non-null  float64\n",
      " 3   lon           848721 non-null  float64\n",
      " 4   baroaltitude  848721 non-null  float64\n",
      " 5   velocity      848721 non-null  float64\n",
      " 6   heading       848721 non-null  float64\n",
      " 7   onground      848721 non-null  bool   \n",
      "dtypes: bool(1), float64(5), int64(1), object(1)\n",
      "memory usage: 52.6+ MB\n"
     ]
    }
   ],
   "source": [
    "import pandas as pd\n",
    "df = pd.read_csv('D:\\lw\\data\\states_2020-09-07-01.csv')\n",
    "data = pd.DataFrame(df,columns=[ 'icao24','time', 'lat', 'lon', 'baroaltitude', 'velocity','heading', 'onground'])\n",
    "# 去除NAN\n",
    "data.dropna(axis=0, inplace=True)\n",
    "# 去除在地面上的点\n",
    "data = data.loc[df['onground']==False]\n",
    "data.info()\n",
    "data.head(10)\n",
    "data.to_csv('data.csv',index=False)"
   ],
   "metadata": {
    "collapsed": false,
    "pycharm": {
     "name": "#%%\n"
    }
   }
  },
  {
   "cell_type": "markdown",
   "source": [
    "### 将时间戳转成成具体时间(非必需)"
   ],
   "metadata": {
    "collapsed": false,
    "pycharm": {
     "name": "#%% md\n"
    }
   }
  },
  {
   "cell_type": "code",
   "execution_count": null,
   "outputs": [],
   "source": [
    "# import pandas as pd\n",
    "# df = pd.read_csv('data.csv')\n",
    "#\n",
    "# # 将时间戳转成成具体时间\n",
    "# df['date'] = pd.to_datetime(df['time'], unit='s')\n",
    "# df.head(20)"
   ],
   "metadata": {
    "collapsed": false,
    "pycharm": {
     "name": "#%%\n"
    }
   }
  },
  {
   "cell_type": "code",
   "execution_count": 34,
   "outputs": [
    {
     "data": {
      "text/plain": "4761"
     },
     "execution_count": 34,
     "metadata": {},
     "output_type": "execute_result"
    }
   ],
   "source": [
    "import pandas as pd\n",
    "data = pd.read_csv('data.csv')\n",
    "df = pd.DataFrame(data)\n",
    "# 忽略最后一行onground\n",
    "df =df.iloc[:, :-1]\n",
    "\n",
    "id_list = df['icao24'].unique()\n",
    "len(id_list)"
   ],
   "metadata": {
    "collapsed": false,
    "pycharm": {
     "name": "#%%\n"
    }
   }
  },
  {
   "cell_type": "markdown",
   "source": [
    "### 过滤数据"
   ],
   "metadata": {
    "collapsed": false
   }
  },
  {
   "cell_type": "code",
   "execution_count": 35,
   "outputs": [
    {
     "data": {
      "text/plain": "4358"
     },
     "execution_count": 35,
     "metadata": {},
     "output_type": "execute_result"
    }
   ],
   "source": [
    "# 过滤掉轨迹长度小于100的点\n",
    "fileter_data = df.groupby(by=[df['icao24']]).filter(lambda x: len(x) >= 40)\n",
    "filter_id_list = fileter_data['icao24'].unique()\n",
    "len(filter_id_list)"
   ],
   "metadata": {
    "collapsed": false,
    "pycharm": {
     "name": "#%%\n"
    }
   }
  },
  {
   "cell_type": "code",
   "source": [
    "fileter_data.info()"
   ],
   "metadata": {
    "collapsed": false,
    "pycharm": {
     "name": "#%%\n"
    }
   },
   "execution_count": 3,
   "outputs": [
    {
     "name": "stdout",
     "output_type": "stream",
     "text": [
      "<class 'pandas.core.frame.DataFrame'>\n",
      "Int64Index: 773937 entries, 0 to 848720\n",
      "Data columns (total 7 columns):\n",
      " #   Column        Non-Null Count   Dtype  \n",
      "---  ------        --------------   -----  \n",
      " 0   icao24        773937 non-null  object \n",
      " 1   time          773937 non-null  int64  \n",
      " 2   lat           773937 non-null  float64\n",
      " 3   lon           773937 non-null  float64\n",
      " 4   baroaltitude  773937 non-null  float64\n",
      " 5   velocity      773937 non-null  float64\n",
      " 6   heading       773937 non-null  float64\n",
      "dtypes: float64(5), int64(1), object(1)\n",
      "memory usage: 47.2+ MB\n"
     ]
    }
   ]
  },
  {
   "cell_type": "code",
   "execution_count": 36,
   "outputs": [],
   "source": [
    "fileter_data.to_csv(\"filter_data.csv\",index=False)"
   ],
   "metadata": {
    "collapsed": false,
    "pycharm": {
     "name": "#%%\n"
    }
   }
  },
  {
   "cell_type": "code",
   "execution_count": 38,
   "outputs": [
    {
     "name": "stdout",
     "output_type": "stream",
     "text": [
      "<class 'pandas.core.frame.DataFrame'>\n",
      "Int64Index: 153633 entries, 13 to 848716\n",
      "Data columns (total 7 columns):\n",
      " #   Column        Non-Null Count   Dtype  \n",
      "---  ------        --------------   -----  \n",
      " 0   icao24        153633 non-null  object \n",
      " 1   time          153633 non-null  int64  \n",
      " 2   lat           153633 non-null  float64\n",
      " 3   lon           153633 non-null  float64\n",
      " 4   baroaltitude  153633 non-null  float64\n",
      " 5   velocity      153633 non-null  float64\n",
      " 6   heading       153633 non-null  float64\n",
      "dtypes: float64(5), int64(1), object(1)\n",
      "memory usage: 9.4+ MB\n"
     ]
    }
   ],
   "source": [
    "dup_col = ['icao24', 'lat', 'lon', 'baroaltitude']\n",
    "dup_col2 = ['time','icao24']\n",
    "df_dup = fileter_data[fileter_data.duplicated(dup_col)]\n",
    "# df_dup.sort_values(by=['icao24','time'],inplace=True)\n",
    "# df_dup.head(50)\n",
    "# 得到数据重复的id\n",
    "dup_id = df_dup['icao24'].unique()\n",
    "# 得到唯一数据的id列表\n",
    "diff_id = [id for id in filter_id_list if id not in dup_id]\n",
    "# 筛选出唯一数据\n",
    "data= fileter_data[fileter_data['icao24'].isin(diff_id)]\n",
    "data.info()"
   ],
   "metadata": {
    "collapsed": false,
    "pycharm": {
     "name": "#%%\n"
    }
   }
  },
  {
   "cell_type": "code",
   "execution_count": 41,
   "outputs": [
    {
     "name": "stdout",
     "output_type": "stream",
     "text": [
      "<class 'pandas.core.frame.DataFrame'>\n",
      "Int64Index: 153633 entries, 13 to 848716\n",
      "Data columns (total 7 columns):\n",
      " #   Column        Non-Null Count   Dtype  \n",
      "---  ------        --------------   -----  \n",
      " 0   icao24        153633 non-null  object \n",
      " 1   time          153633 non-null  int64  \n",
      " 2   lat           153633 non-null  float64\n",
      " 3   lon           153633 non-null  float64\n",
      " 4   baroaltitude  153633 non-null  float64\n",
      " 5   velocity      153633 non-null  float64\n",
      " 6   heading       153633 non-null  float64\n",
      "dtypes: float64(5), int64(1), object(1)\n",
      "memory usage: 9.4+ MB\n"
     ]
    },
    {
     "name": "stderr",
     "output_type": "stream",
     "text": [
      "<ipython-input-41-d0f27e862c1c>:2: SettingWithCopyWarning: \n",
      "A value is trying to be set on a copy of a slice from a DataFrame\n",
      "\n",
      "See the caveats in the documentation: https://pandas.pydata.org/pandas-docs/stable/user_guide/indexing.html#returning-a-view-versus-a-copy\n",
      "  data.drop_duplicates(subset=['time','icao24'],keep='first',inplace=True)\n",
      "<ipython-input-41-d0f27e862c1c>:5: SettingWithCopyWarning: \n",
      "A value is trying to be set on a copy of a slice from a DataFrame\n",
      "\n",
      "See the caveats in the documentation: https://pandas.pydata.org/pandas-docs/stable/user_guide/indexing.html#returning-a-view-versus-a-copy\n",
      "  data.sort_values(by=['icao24','time'],inplace=True)\n"
     ]
    },
    {
     "data": {
      "text/plain": "        icao24        time        lat        lon  baroaltitude    velocity  \\\n1494    06a088  1599440410  26.785273  51.932109       6096.00  192.199060   \n2142    06a088  1599440420  26.768468  51.928306       6096.00  192.199060   \n6032    06a088  1599440430  26.751104  51.924345       6096.00  192.703059   \n6460    06a088  1599440440  26.734360  51.920558       6096.00  192.600716   \n9334    06a088  1599440450  26.717772  51.916791       6096.00  192.703059   \n11505   06a088  1599440460  26.700595  51.912936       6096.00  192.096448   \n13784   06a088  1599440470  26.683138  51.908974       6096.00  192.199060   \n15959   06a088  1599440480  26.667030  51.905277       6096.00  191.799322   \n19046   06a088  1599440490  26.649857  51.901228       6096.00  191.904851   \n19221   06a088  1599440500  26.633187  51.897354       6096.00  191.904851   \n23582   06a088  1599440510  26.615479  51.893247       6096.00  192.408246   \n24413   06a088  1599440520  26.598999  51.889412       6096.00  191.904851   \n26974   06a088  1599440530  26.581793  51.885364       6096.00  191.904851   \n29152   06a088  1599440540  26.565125  51.881484       6096.00  192.408246   \n32089   06a088  1599440550  26.548043  51.877547       6096.00  192.302993   \n34267   06a088  1599440560  26.530679  51.873480       6096.00  192.806721   \n36096   06a088  1599440570  26.513548  51.869571       6096.00  192.806721   \n37985   06a088  1599440580  26.496696  51.865663       6096.00  192.302993   \n42235   06a088  1599440590  26.479890  51.861807       6073.14  192.302993   \n43497   06a088  1599440600  26.462433  51.857740       6035.04  192.302993   \n46891   06a088  1599440610  26.446000  51.853990       5989.32  191.799322   \n47088   06a088  1599440620  26.428869  51.850028       5935.98  192.302993   \n51027   06a088  1599440630  26.412048  51.846141       5890.26  193.814345   \n53085   06a088  1599440640  26.394882  51.842202       5829.30  194.318240   \n56003   06a088  1599440650  26.377336  51.838197       5783.58  194.422402   \n56801   06a088  1599440660  26.360065  51.834183       5730.24  193.415209   \n60819   06a088  1599440670  26.343338  51.830335       5676.90  191.904851   \n61929   06a088  1599440680  26.326447  51.826396       5631.18  191.295709   \n65369   06a088  1599440690  26.310208  51.822668       5585.46  190.183622   \n66822   06a088  1599440700  26.293728  51.818865       5539.74  190.183622   \n70491   06a088  1599440710  26.275759  51.814745       5494.02  190.481879   \n72446   06a088  1599440720  26.258652  51.811990       5455.92  191.114388   \n75222   06a088  1599440730  26.241822  51.811048       5394.96  189.863990   \n77210   06a088  1599440740  26.224640  51.810953       5334.00  186.743881   \n79795   06a088  1599440750  26.208444  51.810890       5273.04  184.688262   \n82152   06a088  1599440760  26.191315  51.810746       5212.08  183.144954   \n85979   06a088  1599440770  26.174880  51.810678       5158.74  183.657229   \n87866   06a088  1599440780  26.158773  51.810678       5090.16  184.171670   \n90046   06a088  1599440790  26.141922  51.810642       5029.20  184.171670   \n91822   06a088  1599440800  26.125395  51.810573       4960.62  184.171670   \n95354   06a088  1599440810  26.109100  51.810591       4899.66  183.142064   \n97135   06a088  1599440820  26.092157  51.810573       4831.08  182.627620   \n100880  06a088  1599440830  26.075584  51.810626       4762.50  181.598732   \n102080  06a088  1599440840  26.059250  51.810591       4693.92  179.540956   \n105174  06a088  1599440850  26.043510  51.810573       4632.96  176.455042   \n106417  06a088  1599440860  26.027915  51.810467       4579.62  173.370681   \n110468  06a088  1599440870  26.012512  51.810383       4533.90  171.312942   \n112175  06a088  1599440880  25.997051  51.810309       4488.18  170.795408   \n115530  06a088  1599440890  25.981293  51.810332       4442.46  170.281741   \n117614  06a088  1599440900  25.966232  51.810383       4389.12  170.281741   \n\n           heading  \n1494    191.580619  \n2142    191.580619  \n6032    191.549913  \n6460    191.399973  \n9334    191.549913  \n11505   191.430302  \n13784   191.580619  \n15959   191.762020  \n19046   191.912390  \n19221   191.912390  \n23582   191.880768  \n24413   191.912390  \n26974   191.912390  \n29152   191.880768  \n32089   191.730775  \n34267   191.699694  \n36096   191.699694  \n37985   191.730775  \n42235   191.730775  \n43497   191.730775  \n46891   191.762020  \n47088   191.730775  \n51027   191.638015  \n53085   191.607416  \n56003   191.755921  \n56801   191.818019  \n60819   191.912390  \n61929   191.793430  \n65369   191.705070  \n66822   191.705070  \n70491   191.370627  \n72446   186.646766  \n75222   181.086781  \n77210   180.157839  \n79795   180.319193  \n82152   180.321883  \n85979   180.160492  \n87866   180.160044  \n90046   180.160044  \n91822   180.160044  \n95354   180.000000  \n97135   180.000000  \n100880  180.000000  \n102080  180.000000  \n105174  180.167043  \n106417  180.340030  \n110468  180.344115  \n112175  180.000000  \n115530  179.826901  \n117614  179.826901  ",
      "text/html": "<div>\n<style scoped>\n    .dataframe tbody tr th:only-of-type {\n        vertical-align: middle;\n    }\n\n    .dataframe tbody tr th {\n        vertical-align: top;\n    }\n\n    .dataframe thead th {\n        text-align: right;\n    }\n</style>\n<table border=\"1\" class=\"dataframe\">\n  <thead>\n    <tr style=\"text-align: right;\">\n      <th></th>\n      <th>icao24</th>\n      <th>time</th>\n      <th>lat</th>\n      <th>lon</th>\n      <th>baroaltitude</th>\n      <th>velocity</th>\n      <th>heading</th>\n    </tr>\n  </thead>\n  <tbody>\n    <tr>\n      <th>1494</th>\n      <td>06a088</td>\n      <td>1599440410</td>\n      <td>26.785273</td>\n      <td>51.932109</td>\n      <td>6096.00</td>\n      <td>192.199060</td>\n      <td>191.580619</td>\n    </tr>\n    <tr>\n      <th>2142</th>\n      <td>06a088</td>\n      <td>1599440420</td>\n      <td>26.768468</td>\n      <td>51.928306</td>\n      <td>6096.00</td>\n      <td>192.199060</td>\n      <td>191.580619</td>\n    </tr>\n    <tr>\n      <th>6032</th>\n      <td>06a088</td>\n      <td>1599440430</td>\n      <td>26.751104</td>\n      <td>51.924345</td>\n      <td>6096.00</td>\n      <td>192.703059</td>\n      <td>191.549913</td>\n    </tr>\n    <tr>\n      <th>6460</th>\n      <td>06a088</td>\n      <td>1599440440</td>\n      <td>26.734360</td>\n      <td>51.920558</td>\n      <td>6096.00</td>\n      <td>192.600716</td>\n      <td>191.399973</td>\n    </tr>\n    <tr>\n      <th>9334</th>\n      <td>06a088</td>\n      <td>1599440450</td>\n      <td>26.717772</td>\n      <td>51.916791</td>\n      <td>6096.00</td>\n      <td>192.703059</td>\n      <td>191.549913</td>\n    </tr>\n    <tr>\n      <th>11505</th>\n      <td>06a088</td>\n      <td>1599440460</td>\n      <td>26.700595</td>\n      <td>51.912936</td>\n      <td>6096.00</td>\n      <td>192.096448</td>\n      <td>191.430302</td>\n    </tr>\n    <tr>\n      <th>13784</th>\n      <td>06a088</td>\n      <td>1599440470</td>\n      <td>26.683138</td>\n      <td>51.908974</td>\n      <td>6096.00</td>\n      <td>192.199060</td>\n      <td>191.580619</td>\n    </tr>\n    <tr>\n      <th>15959</th>\n      <td>06a088</td>\n      <td>1599440480</td>\n      <td>26.667030</td>\n      <td>51.905277</td>\n      <td>6096.00</td>\n      <td>191.799322</td>\n      <td>191.762020</td>\n    </tr>\n    <tr>\n      <th>19046</th>\n      <td>06a088</td>\n      <td>1599440490</td>\n      <td>26.649857</td>\n      <td>51.901228</td>\n      <td>6096.00</td>\n      <td>191.904851</td>\n      <td>191.912390</td>\n    </tr>\n    <tr>\n      <th>19221</th>\n      <td>06a088</td>\n      <td>1599440500</td>\n      <td>26.633187</td>\n      <td>51.897354</td>\n      <td>6096.00</td>\n      <td>191.904851</td>\n      <td>191.912390</td>\n    </tr>\n    <tr>\n      <th>23582</th>\n      <td>06a088</td>\n      <td>1599440510</td>\n      <td>26.615479</td>\n      <td>51.893247</td>\n      <td>6096.00</td>\n      <td>192.408246</td>\n      <td>191.880768</td>\n    </tr>\n    <tr>\n      <th>24413</th>\n      <td>06a088</td>\n      <td>1599440520</td>\n      <td>26.598999</td>\n      <td>51.889412</td>\n      <td>6096.00</td>\n      <td>191.904851</td>\n      <td>191.912390</td>\n    </tr>\n    <tr>\n      <th>26974</th>\n      <td>06a088</td>\n      <td>1599440530</td>\n      <td>26.581793</td>\n      <td>51.885364</td>\n      <td>6096.00</td>\n      <td>191.904851</td>\n      <td>191.912390</td>\n    </tr>\n    <tr>\n      <th>29152</th>\n      <td>06a088</td>\n      <td>1599440540</td>\n      <td>26.565125</td>\n      <td>51.881484</td>\n      <td>6096.00</td>\n      <td>192.408246</td>\n      <td>191.880768</td>\n    </tr>\n    <tr>\n      <th>32089</th>\n      <td>06a088</td>\n      <td>1599440550</td>\n      <td>26.548043</td>\n      <td>51.877547</td>\n      <td>6096.00</td>\n      <td>192.302993</td>\n      <td>191.730775</td>\n    </tr>\n    <tr>\n      <th>34267</th>\n      <td>06a088</td>\n      <td>1599440560</td>\n      <td>26.530679</td>\n      <td>51.873480</td>\n      <td>6096.00</td>\n      <td>192.806721</td>\n      <td>191.699694</td>\n    </tr>\n    <tr>\n      <th>36096</th>\n      <td>06a088</td>\n      <td>1599440570</td>\n      <td>26.513548</td>\n      <td>51.869571</td>\n      <td>6096.00</td>\n      <td>192.806721</td>\n      <td>191.699694</td>\n    </tr>\n    <tr>\n      <th>37985</th>\n      <td>06a088</td>\n      <td>1599440580</td>\n      <td>26.496696</td>\n      <td>51.865663</td>\n      <td>6096.00</td>\n      <td>192.302993</td>\n      <td>191.730775</td>\n    </tr>\n    <tr>\n      <th>42235</th>\n      <td>06a088</td>\n      <td>1599440590</td>\n      <td>26.479890</td>\n      <td>51.861807</td>\n      <td>6073.14</td>\n      <td>192.302993</td>\n      <td>191.730775</td>\n    </tr>\n    <tr>\n      <th>43497</th>\n      <td>06a088</td>\n      <td>1599440600</td>\n      <td>26.462433</td>\n      <td>51.857740</td>\n      <td>6035.04</td>\n      <td>192.302993</td>\n      <td>191.730775</td>\n    </tr>\n    <tr>\n      <th>46891</th>\n      <td>06a088</td>\n      <td>1599440610</td>\n      <td>26.446000</td>\n      <td>51.853990</td>\n      <td>5989.32</td>\n      <td>191.799322</td>\n      <td>191.762020</td>\n    </tr>\n    <tr>\n      <th>47088</th>\n      <td>06a088</td>\n      <td>1599440620</td>\n      <td>26.428869</td>\n      <td>51.850028</td>\n      <td>5935.98</td>\n      <td>192.302993</td>\n      <td>191.730775</td>\n    </tr>\n    <tr>\n      <th>51027</th>\n      <td>06a088</td>\n      <td>1599440630</td>\n      <td>26.412048</td>\n      <td>51.846141</td>\n      <td>5890.26</td>\n      <td>193.814345</td>\n      <td>191.638015</td>\n    </tr>\n    <tr>\n      <th>53085</th>\n      <td>06a088</td>\n      <td>1599440640</td>\n      <td>26.394882</td>\n      <td>51.842202</td>\n      <td>5829.30</td>\n      <td>194.318240</td>\n      <td>191.607416</td>\n    </tr>\n    <tr>\n      <th>56003</th>\n      <td>06a088</td>\n      <td>1599440650</td>\n      <td>26.377336</td>\n      <td>51.838197</td>\n      <td>5783.58</td>\n      <td>194.422402</td>\n      <td>191.755921</td>\n    </tr>\n    <tr>\n      <th>56801</th>\n      <td>06a088</td>\n      <td>1599440660</td>\n      <td>26.360065</td>\n      <td>51.834183</td>\n      <td>5730.24</td>\n      <td>193.415209</td>\n      <td>191.818019</td>\n    </tr>\n    <tr>\n      <th>60819</th>\n      <td>06a088</td>\n      <td>1599440670</td>\n      <td>26.343338</td>\n      <td>51.830335</td>\n      <td>5676.90</td>\n      <td>191.904851</td>\n      <td>191.912390</td>\n    </tr>\n    <tr>\n      <th>61929</th>\n      <td>06a088</td>\n      <td>1599440680</td>\n      <td>26.326447</td>\n      <td>51.826396</td>\n      <td>5631.18</td>\n      <td>191.295709</td>\n      <td>191.793430</td>\n    </tr>\n    <tr>\n      <th>65369</th>\n      <td>06a088</td>\n      <td>1599440690</td>\n      <td>26.310208</td>\n      <td>51.822668</td>\n      <td>5585.46</td>\n      <td>190.183622</td>\n      <td>191.705070</td>\n    </tr>\n    <tr>\n      <th>66822</th>\n      <td>06a088</td>\n      <td>1599440700</td>\n      <td>26.293728</td>\n      <td>51.818865</td>\n      <td>5539.74</td>\n      <td>190.183622</td>\n      <td>191.705070</td>\n    </tr>\n    <tr>\n      <th>70491</th>\n      <td>06a088</td>\n      <td>1599440710</td>\n      <td>26.275759</td>\n      <td>51.814745</td>\n      <td>5494.02</td>\n      <td>190.481879</td>\n      <td>191.370627</td>\n    </tr>\n    <tr>\n      <th>72446</th>\n      <td>06a088</td>\n      <td>1599440720</td>\n      <td>26.258652</td>\n      <td>51.811990</td>\n      <td>5455.92</td>\n      <td>191.114388</td>\n      <td>186.646766</td>\n    </tr>\n    <tr>\n      <th>75222</th>\n      <td>06a088</td>\n      <td>1599440730</td>\n      <td>26.241822</td>\n      <td>51.811048</td>\n      <td>5394.96</td>\n      <td>189.863990</td>\n      <td>181.086781</td>\n    </tr>\n    <tr>\n      <th>77210</th>\n      <td>06a088</td>\n      <td>1599440740</td>\n      <td>26.224640</td>\n      <td>51.810953</td>\n      <td>5334.00</td>\n      <td>186.743881</td>\n      <td>180.157839</td>\n    </tr>\n    <tr>\n      <th>79795</th>\n      <td>06a088</td>\n      <td>1599440750</td>\n      <td>26.208444</td>\n      <td>51.810890</td>\n      <td>5273.04</td>\n      <td>184.688262</td>\n      <td>180.319193</td>\n    </tr>\n    <tr>\n      <th>82152</th>\n      <td>06a088</td>\n      <td>1599440760</td>\n      <td>26.191315</td>\n      <td>51.810746</td>\n      <td>5212.08</td>\n      <td>183.144954</td>\n      <td>180.321883</td>\n    </tr>\n    <tr>\n      <th>85979</th>\n      <td>06a088</td>\n      <td>1599440770</td>\n      <td>26.174880</td>\n      <td>51.810678</td>\n      <td>5158.74</td>\n      <td>183.657229</td>\n      <td>180.160492</td>\n    </tr>\n    <tr>\n      <th>87866</th>\n      <td>06a088</td>\n      <td>1599440780</td>\n      <td>26.158773</td>\n      <td>51.810678</td>\n      <td>5090.16</td>\n      <td>184.171670</td>\n      <td>180.160044</td>\n    </tr>\n    <tr>\n      <th>90046</th>\n      <td>06a088</td>\n      <td>1599440790</td>\n      <td>26.141922</td>\n      <td>51.810642</td>\n      <td>5029.20</td>\n      <td>184.171670</td>\n      <td>180.160044</td>\n    </tr>\n    <tr>\n      <th>91822</th>\n      <td>06a088</td>\n      <td>1599440800</td>\n      <td>26.125395</td>\n      <td>51.810573</td>\n      <td>4960.62</td>\n      <td>184.171670</td>\n      <td>180.160044</td>\n    </tr>\n    <tr>\n      <th>95354</th>\n      <td>06a088</td>\n      <td>1599440810</td>\n      <td>26.109100</td>\n      <td>51.810591</td>\n      <td>4899.66</td>\n      <td>183.142064</td>\n      <td>180.000000</td>\n    </tr>\n    <tr>\n      <th>97135</th>\n      <td>06a088</td>\n      <td>1599440820</td>\n      <td>26.092157</td>\n      <td>51.810573</td>\n      <td>4831.08</td>\n      <td>182.627620</td>\n      <td>180.000000</td>\n    </tr>\n    <tr>\n      <th>100880</th>\n      <td>06a088</td>\n      <td>1599440830</td>\n      <td>26.075584</td>\n      <td>51.810626</td>\n      <td>4762.50</td>\n      <td>181.598732</td>\n      <td>180.000000</td>\n    </tr>\n    <tr>\n      <th>102080</th>\n      <td>06a088</td>\n      <td>1599440840</td>\n      <td>26.059250</td>\n      <td>51.810591</td>\n      <td>4693.92</td>\n      <td>179.540956</td>\n      <td>180.000000</td>\n    </tr>\n    <tr>\n      <th>105174</th>\n      <td>06a088</td>\n      <td>1599440850</td>\n      <td>26.043510</td>\n      <td>51.810573</td>\n      <td>4632.96</td>\n      <td>176.455042</td>\n      <td>180.167043</td>\n    </tr>\n    <tr>\n      <th>106417</th>\n      <td>06a088</td>\n      <td>1599440860</td>\n      <td>26.027915</td>\n      <td>51.810467</td>\n      <td>4579.62</td>\n      <td>173.370681</td>\n      <td>180.340030</td>\n    </tr>\n    <tr>\n      <th>110468</th>\n      <td>06a088</td>\n      <td>1599440870</td>\n      <td>26.012512</td>\n      <td>51.810383</td>\n      <td>4533.90</td>\n      <td>171.312942</td>\n      <td>180.344115</td>\n    </tr>\n    <tr>\n      <th>112175</th>\n      <td>06a088</td>\n      <td>1599440880</td>\n      <td>25.997051</td>\n      <td>51.810309</td>\n      <td>4488.18</td>\n      <td>170.795408</td>\n      <td>180.000000</td>\n    </tr>\n    <tr>\n      <th>115530</th>\n      <td>06a088</td>\n      <td>1599440890</td>\n      <td>25.981293</td>\n      <td>51.810332</td>\n      <td>4442.46</td>\n      <td>170.281741</td>\n      <td>179.826901</td>\n    </tr>\n    <tr>\n      <th>117614</th>\n      <td>06a088</td>\n      <td>1599440900</td>\n      <td>25.966232</td>\n      <td>51.810383</td>\n      <td>4389.12</td>\n      <td>170.281741</td>\n      <td>179.826901</td>\n    </tr>\n  </tbody>\n</table>\n</div>"
     },
     "execution_count": 41,
     "metadata": {},
     "output_type": "execute_result"
    }
   ],
   "source": [
    "# 去除重复点数据\n",
    "data.drop_duplicates(subset=['time','icao24'],keep='first',inplace=True)\n",
    "data.info()\n",
    "\n",
    "data.sort_values(by=['icao24','time'],inplace=True)\n",
    "data.head(50)"
   ],
   "metadata": {
    "collapsed": false,
    "pycharm": {
     "name": "#%%\n"
    }
   }
  },
  {
   "cell_type": "code",
   "execution_count": 42,
   "outputs": [],
   "source": [
    "data.to_csv('filter_dup_2020-09-07-01.csv', index=False)"
   ],
   "metadata": {
    "collapsed": false,
    "pycharm": {
     "name": "#%%\n"
    }
   }
  },
  {
   "cell_type": "code",
   "execution_count": null,
   "outputs": [],
   "source": [],
   "metadata": {
    "collapsed": false,
    "pycharm": {
     "name": "#%%\n"
    }
   }
  }
 ],
 "metadata": {
  "kernelspec": {
   "display_name": "Python 3",
   "language": "python",
   "name": "python3"
  },
  "language_info": {
   "codemirror_mode": {
    "name": "ipython",
    "version": 3
   },
   "file_extension": ".py",
   "mimetype": "text/x-python",
   "name": "python",
   "nbconvert_exporter": "python",
   "pygments_lexer": "ipython3",
   "version": "3.7.3"
  }
 },
 "nbformat": 4,
 "nbformat_minor": 2
}