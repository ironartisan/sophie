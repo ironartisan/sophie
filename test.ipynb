{
 "cells": [
  {
   "cell_type": "markdown",
   "metadata": {
    "collapsed": true,
    "pycharm": {
     "name": "#%% md\n"
    }
   },
   "source": [
    "# 模型结果展示"
   ]
  },
  {
   "cell_type": "markdown",
   "source": [
    "# 引入库"
   ],
   "metadata": {
    "collapsed": false
   }
  },
  {
   "cell_type": "code",
   "execution_count": null,
   "outputs": [],
   "source": [
    "import predict\n",
    "import matplotlib.pyplot as plt\n",
    "from mpl_toolkits.mplot3d import Axes3D\n",
    "import numpy\n",
    "from utils import show_xy\n",
    "from constants import ASIA_PARM\n",
    "print('start')"
   ],
   "metadata": {
    "collapsed": false,
    "pycharm": {
     "name": "#%%\n",
     "is_executing": true
    }
   }
  },
  {
   "cell_type": "markdown",
   "source": [
    "# 不同模型在china_with_normal上比较\n",
    "## 1. 载入模型"
   ],
   "metadata": {
    "collapsed": false
   }
  },
  {
   "cell_type": "code",
   "execution_count": null,
   "outputs": [],
   "source": [
    "print('start')\n",
    "# china_with_normal_tGAN_4模型\n",
    "sophine_infer = predict.Infer(use_cuda=1)\n",
    "sophine_infer.load_model('temp/sophine_pre12.pt')"
   ],
   "metadata": {
    "collapsed": false,
    "pycharm": {
     "name": "#%%\n",
     "is_executing": true
    }
   }
  },
  {
   "cell_type": "markdown",
   "source": [
    "## 2. 查看各个模型的指标"
   ],
   "metadata": {
    "collapsed": false
   }
  },
  {
   "cell_type": "code",
   "execution_count": null,
   "outputs": [],
   "source": [
    "# print('start')\n",
    "# metrics = sophine_infer.check_accuracy()\n",
    "# print('sophine test ade is %f' % metrics['ade'])\n",
    "# print('sophine test fde is %f' % metrics['fde'])\n",
    "# print('end')\n",
    "#"
   ],
   "metadata": {
    "collapsed": false,
    "pycharm": {
     "name": "#%%\n"
    }
   }
  },
  {
   "cell_type": "code",
   "execution_count": null,
   "outputs": [],
   "source": [
    "# print('start')\n",
    "# metrics = sophine_infer.get_metrics()\n",
    "# print('sophine test ade is %f' % metrics['ade'])\n",
    "# print('sophine test fde is %f' % metrics['fde'])\n",
    "# print('end')"
   ],
   "metadata": {
    "collapsed": false,
    "pycharm": {
     "name": "#%%\n"
    }
   }
  },
  {
   "cell_type": "markdown",
   "source": [
    "## 3. 实际效果的测试"
   ],
   "metadata": {
    "collapsed": false
   }
  },
  {
   "cell_type": "code",
   "execution_count": null,
   "outputs": [],
   "source": [
    "# 获取一条数据\n",
    "obs_traj, pred_traj_gt, obs_traj_rel, pred_traj_gt_rel = sophine_infer.get_one_data()"
   ],
   "metadata": {
    "collapsed": false,
    "pycharm": {
     "name": "#%%\n"
    }
   }
  },
  {
   "cell_type": "code",
   "execution_count": null,
   "outputs": [],
   "source": [
    "predictions = []\n",
    "sophine_pred, sophine_ade, sophine_fde = sophine_infer.predict(obs_traj, pred_traj_gt, obs_traj_rel)\n",
    "predictions.append([sophine_pred, sophine_ade, sophine_fde, 'sophine'])"
   ],
   "metadata": {
    "collapsed": false,
    "pycharm": {
     "name": "#%%\n"
    }
   }
  },
  {
   "cell_type": "code",
   "execution_count": null,
   "outputs": [],
   "source": [
    "print('start')\n",
    "obs_traj = obs_traj.cpu().detach().numpy()\n",
    "\n",
    "pred_traj_gt = pred_traj_gt.cpu().detach().numpy()\n",
    "show_xy(obs_traj[:, :, 0, :], pred_traj_gt, predictions, ASIA_PARM)\n",
    "\n",
    "\n",
    "\n"
   ],
   "metadata": {
    "collapsed": false,
    "pycharm": {
     "name": "#%%\n"
    }
   }
  }
 ],
 "metadata": {
  "kernelspec": {
   "display_name": "Python 3",
   "language": "python",
   "name": "python3"
  },
  "language_info": {
   "codemirror_mode": {
    "name": "ipython",
    "version": 2
   },
   "file_extension": ".py",
   "mimetype": "text/x-python",
   "name": "python",
   "nbconvert_exporter": "python",
   "pygments_lexer": "ipython2",
   "version": "2.7.6"
  }
 },
 "nbformat": 4,
 "nbformat_minor": 0
}