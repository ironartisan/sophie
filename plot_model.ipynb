{
 "cells": [
  {
   "cell_type": "markdown",
   "metadata": {
    "pycharm": {
     "is_executing": false
    }
   },
   "source": [
    "# 模型结果展示"
   ]
  },
  {
   "cell_type": "markdown",
   "metadata": {},
   "source": [
    "# 引入库"
   ]
  },
  {
   "cell_type": "code",
   "execution_count": 8,
   "metadata": {},
   "outputs": [],
   "source": [
    "import predict\n",
    "import matplotlib.pyplot as plt\n",
    "from mpl_toolkits.mplot3d import Axes3D\n",
    "import numpy\n",
    "from utils import show_xy\n",
    "from constants import ASIA_PARM"
   ]
  },
  {
   "cell_type": "markdown",
   "metadata": {},
   "source": [
    "# 不同模型在china_with_normal上比较\n",
    "## 1. 载入模型"
   ]
  },
  {
   "cell_type": "code",
   "execution_count": 9,
   "metadata": {},
   "outputs": [
    {
     "name": "stdout",
     "output_type": "stream",
     "text": [
      "start\n"
     ]
    }
   ],
   "source": [
    "print('start')\n",
    "# china_with_normal_tGAN_4模型\n",
    "sophine_infer = predict.Infer(use_cuda=1)\n",
    "sophine_infer.load_model('temp/sophine_pre12.pt')"
   ]
  },
  {
   "cell_type": "markdown",
   "metadata": {},
   "source": [
    "## 2. 查看各个模型的指标"
   ]
  },
  {
   "cell_type": "code",
   "execution_count": 3,
   "metadata": {},
   "outputs": [],
   "source": [
    "# print('start')\n",
    "# metrics = sophine_infer.check_accuracy()\n",
    "# print('sophine test ade is %f' % metrics['ade'])\n",
    "# print('sophine test fde is %f' % metrics['fde'])\n",
    "# print('end')\n",
    "#"
   ]
  },
  {
   "cell_type": "code",
   "execution_count": 4,
   "metadata": {
    "pycharm": {
     "name": "#%%\n"
    }
   },
   "outputs": [],
   "source": [
    "# print('start')\n",
    "# metrics = sophine_infer.get_metrics()\n",
    "# print('sophine test ade is %f' % metrics['ade'])\n",
    "# print('sophine test fde is %f' % metrics['fde'])\n",
    "# print('end')"
   ]
  },
  {
   "cell_type": "markdown",
   "metadata": {
    "pycharm": {
     "is_executing": true,
     "name": "#%% md\n"
    }
   },
   "source": [
    "## 3. 实际效果的测试"
   ]
  },
  {
   "cell_type": "code",
   "execution_count": 12,
   "metadata": {},
   "outputs": [],
   "source": [
    "# 获取一条数据\n",
    "obs_traj, pred_traj_gt, obs_traj_rel, pred_traj_gt_rel = sophine_infer.get_one_data()"
   ]
  },
  {
   "cell_type": "code",
   "execution_count": 13,
   "metadata": {
    "pycharm": {
     "name": "#%%\n"
    }
   },
   "outputs": [],
   "source": [
    "predictions = []\n",
    "sophine_pred, sophine_ade, sophine_fde = sophine_infer.predict(obs_traj, pred_traj_gt, obs_traj_rel)\n",
    "predictions.append([sophine_pred, sophine_ade, sophine_fde, 'sophine'])"
   ]
  },
  {
   "cell_type": "code",
   "execution_count": 14,
   "metadata": {
    "pycharm": {
     "name": "#%%\n"
    }
   },
   "outputs": [
    {
     "name": "stdout",
     "output_type": "stream",
     "text": [
      "start\n"
     ]
    },
    {
     "data": {
      "image/png": "[encoded data removed]",
      "text/plain": [
       "<Figure size 432x288 with 1 Axes>"
      ]
     },
     "metadata": {
      "needs_background": "light"
     },
     "output_type": "display_data"
    }
   ],
   "source": [
    "print('start')\n",
    "obs_traj = obs_traj.cpu().detach().numpy()\n",
    "\n",
    "pred_traj_gt = pred_traj_gt.cpu().detach().numpy()\n",
    "show_xy(obs_traj[:, :, 0, :], pred_traj_gt, predictions, ASIA_PARM)\n",
    "\n",
    "\n",
    "\n"
   ]
  }
 ],
 "metadata": {
  "kernelspec": {
   "display_name": "Python 3",
   "language": "python",
   "name": "python3"
  },
  "language_info": {
   "codemirror_mode": {
    "name": "ipython",
    "version": 3
   },
   "file_extension": ".py",
   "mimetype": "text/x-python",
   "name": "python",
   "nbconvert_exporter": "python",
   "pygments_lexer": "ipython3",
   "version": "3.7.1"
  }
 },
 "nbformat": 4,
 "nbformat_minor": 4
}